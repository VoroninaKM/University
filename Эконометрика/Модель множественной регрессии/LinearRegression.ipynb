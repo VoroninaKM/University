{
 "cells": [
  {
   "cell_type": "code",
   "execution_count": 1,
   "metadata": {},
   "outputs": [],
   "source": [
    "import pandas as pd\n",
    "import numpy as np"
   ]
  },
  {
   "cell_type": "code",
   "execution_count": 32,
   "metadata": {},
   "outputs": [
    {
     "data": {
      "text/plain": [
       "array([[ 50, 162,  14,  25,   4],\n",
       "       [ 60, 175,  18,  22,   7],\n",
       "       [ 70, 180,  22,  20,   8],\n",
       "       [ 76, 180,  30,  20,   3],\n",
       "       [ 57, 170,  25,  18,   5],\n",
       "       [ 80, 185,  25,  27,   3],\n",
       "       [ 90, 180,  40,  30,   2],\n",
       "       [ 45, 156,  15,  20,   1]], dtype=int64)"
      ]
     },
     "execution_count": 32,
     "metadata": {},
     "output_type": "execute_result"
    }
   ],
   "source": [
    "data = pd.read_excel('Модель_множественной_регрессии.xlsx', sheet_name='Данные для Python')\n",
    "data = data.to_numpy()\n",
    "#y-0,x-1 по осям\n",
    "data"
   ]
  },
  {
   "cell_type": "code",
   "execution_count": 35,
   "metadata": {},
   "outputs": [
    {
     "data": {
      "text/plain": [
       "array([-125.37828669,    0.9345474 ,    0.69327964,    0.66613623,\n",
       "         -0.55733759])"
      ]
     },
     "execution_count": 35,
     "metadata": {},
     "output_type": "execute_result"
    }
   ],
   "source": [
    "y = data[:,0].transpose()\n",
    "x = np.c_[np.ones(data.shape[0]), data[:,1:]]\n",
    "b = np.zeros(data.shape[1]).transpose()\n",
    "xT = x.transpose()\n",
    "xT_x = np.dot(xT,x)\n",
    "xT_x_inv = np.linalg.inv(xT_x)\n",
    "xT_x_inv_xT = np.dot(xT_x_inv,xT)\n",
    "b = np.dot(xT_x_inv_xT, y)\n",
    "b"
   ]
  }
 ],
 "metadata": {
  "kernelspec": {
   "display_name": "Python 3",
   "language": "python",
   "name": "python3"
  },
  "language_info": {
   "codemirror_mode": {
    "name": "ipython",
    "version": 3
   },
   "file_extension": ".py",
   "mimetype": "text/x-python",
   "name": "python",
   "nbconvert_exporter": "python",
   "pygments_lexer": "ipython3",
   "version": "3.8.3"
  }
 },
 "nbformat": 4,
 "nbformat_minor": 4
}
